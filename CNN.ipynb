{
 "cells": [
  {
   "cell_type": "code",
   "execution_count": 5,
   "metadata": {
    "pycharm": {
     "name": "#%%\n"
    }
   },
   "outputs": [],
   "source": [
    "import os\n",
    "import numpy as np\n",
    "import tensorflow.keras\n",
    "from skimage import io"
   ]
  },
  {
   "cell_type": "code",
   "execution_count": 51,
   "metadata": {},
   "outputs": [],
   "source": [
    "def process_data(dir='data/train'):\n",
    "    print(\"start processing data...\")\n",
    "    classes = os.listdir(dir)\n",
    "    train_data_classes = {c: os.path.join(dir, c) for c in classes}\n",
    "    train_X = []\n",
    "    train_y = []\n",
    "\n",
    "    for i, c in enumerate(train_data_classes):\n",
    "        class_dir = dir + \"/\" + c + \"/\"\n",
    "        for image in os.listdir(class_dir):\n",
    "            # print(class_dir + image)\n",
    "            im = io.imread(class_dir + image,1).reshape([256,256,1])\n",
    "            im = np.asarray(im/255)\n",
    "            im = im.astype(int)\n",
    "\n",
    "            train_X.append(im)\n",
    "            train_y.append(i)\n",
    "\n",
    "    train_X = np.asarray(train_X)\n",
    "    train_y = np. asarray(train_y)\n",
    "    train_y = one_hot(train_y)\n",
    "    \n",
    "    print(\"finished processing data...\")\n",
    "    return train_X, train_y\n"
   ]
  },
  {
   "cell_type": "code",
   "execution_count": 7,
   "metadata": {},
   "outputs": [],
   "source": [
    "import tensorflow as tf\n",
    "\n",
    "def one_hot(y):\n",
    "    return np.array(tf.keras.utils.to_categorical(y, 8))"
   ]
  },
  {
   "cell_type": "code",
   "execution_count": 8,
   "metadata": {},
   "outputs": [
    {
     "name": "stdout",
     "output_type": "stream",
     "text": [
      "start processing data...\n",
      "finished processing data...\n"
     ]
    }
   ],
   "source": [
    "train_X, train_y = process_data(dir='data/train')"
   ]
  },
  {
   "cell_type": "code",
   "execution_count": 52,
   "metadata": {},
   "outputs": [
    {
     "name": "stdout",
     "output_type": "stream",
     "text": [
      "start processing data...\n",
      "finished processing data...\n"
     ]
    }
   ],
   "source": [
    "valid_X, valid_y = process_data(dir='data/validation')"
   ]
  },
  {
   "cell_type": "code",
   "execution_count": 10,
   "metadata": {},
   "outputs": [
    {
     "name": "stdout",
     "output_type": "stream",
     "text": [
      "start processing data...\n",
      "finished processing data...\n"
     ]
    }
   ],
   "source": [
    "test_X, test_y = process_data(dir='data/test')"
   ]
  },
  {
   "cell_type": "code",
   "execution_count": 11,
   "metadata": {
    "pycharm": {
     "name": "#%%\n"
    },
    "scrolled": true
   },
   "outputs": [
    {
     "name": "stdout",
     "output_type": "stream",
     "text": [
      "4000 (4000, 256, 256, 1) (256, 256, 1)\n"
     ]
    }
   ],
   "source": [
    "# print first image\n",
    "image = test_X[0]\n",
    "print(len(test_X), test_X.shape, image.shape)"
   ]
  },
  {
   "cell_type": "code",
   "execution_count": 12,
   "metadata": {},
   "outputs": [],
   "source": [
    "import tensorflow as tf\n",
    "from tensorflow.keras.models import Sequential,  Model\n",
    "from tensorflow.keras.layers import Dense, Dropout, Flatten, Input\n",
    "from tensorflow.keras.layers import Conv2D, MaxPooling2D\n",
    "from tensorflow.keras.layers import BatchNormalization, LeakyReLU\n",
    "import tensorflow_addons as tfa"
   ]
  },
  {
   "cell_type": "code",
   "execution_count": 16,
   "metadata": {},
   "outputs": [],
   "source": [
    "batch_size = 64\n",
    "epochs = 20\n",
    "num_classes = 8"
   ]
  },
  {
   "cell_type": "code",
   "execution_count": 28,
   "metadata": {},
   "outputs": [],
   "source": [
    "def CNN(train_X, train_y):\n",
    "\n",
    "    CNN_model = Sequential()\n",
    "    CNN_model.add(Conv2D(16, kernel_size=(5, 5), activation='linear',input_shape=(256, 256, 1), padding='same'))\n",
    "    CNN_model.add(LeakyReLU(alpha=0.1))\n",
    "    CNN_model.add(MaxPooling2D((2, 2), padding='same'))\n",
    "    CNN_model.add(Conv2D(64, (3, 3), activation='linear', padding='same'))\n",
    "    CNN_model.add(LeakyReLU(alpha=0.1))\n",
    "    CNN_model.add(MaxPooling2D(pool_size=(2, 2), padding='same'))\n",
    "    CNN_model.add(Conv2D(128, (3, 3), activation='linear', padding='same'))\n",
    "    CNN_model.add(LeakyReLU(alpha=0.1))\n",
    "    CNN_model.add(MaxPooling2D(pool_size=(2, 2), padding='same'))\n",
    "    CNN_model.add(Flatten())\n",
    "    CNN_model.add(Dense(128, activation='linear'))\n",
    "    CNN_model.add(LeakyReLU(alpha=0.1))\n",
    "    CNN_model.add(Dense(num_classes, activation='softmax'))\n",
    "\n",
    "    CNN_model.compile(loss=tf.keras.losses.categorical_crossentropy, optimizer=tf.optimizers.Adam(),\n",
    "                      metrics=[tf.keras.metrics.Precision(), tf.keras.metrics.Recall(), tfa.metrics.F1Score(num_classes)])\n",
    "    \n",
    "    CNN_model.summary()\n",
    "    \n",
    "    return CNN_model\n",
    "   "
   ]
  },
  {
   "cell_type": "code",
   "execution_count": 29,
   "metadata": {},
   "outputs": [
    {
     "name": "stdout",
     "output_type": "stream",
     "text": [
      "Model: \"sequential_5\"\n",
      "_________________________________________________________________\n",
      " Layer (type)                Output Shape              Param #   \n",
      "=================================================================\n",
      " conv2d_15 (Conv2D)          (None, 256, 256, 16)      416       \n",
      "                                                                 \n",
      " leaky_re_lu_20 (LeakyReLU)  (None, 256, 256, 16)      0         \n",
      "                                                                 \n",
      " max_pooling2d_15 (MaxPoolin  (None, 128, 128, 16)     0         \n",
      " g2D)                                                            \n",
      "                                                                 \n",
      " conv2d_16 (Conv2D)          (None, 128, 128, 64)      9280      \n",
      "                                                                 \n",
      " leaky_re_lu_21 (LeakyReLU)  (None, 128, 128, 64)      0         \n",
      "                                                                 \n",
      " max_pooling2d_16 (MaxPoolin  (None, 64, 64, 64)       0         \n",
      " g2D)                                                            \n",
      "                                                                 \n",
      " conv2d_17 (Conv2D)          (None, 64, 64, 128)       73856     \n",
      "                                                                 \n",
      " leaky_re_lu_22 (LeakyReLU)  (None, 64, 64, 128)       0         \n",
      "                                                                 \n",
      " max_pooling2d_17 (MaxPoolin  (None, 32, 32, 128)      0         \n",
      " g2D)                                                            \n",
      "                                                                 \n",
      " flatten_5 (Flatten)         (None, 131072)            0         \n",
      "                                                                 \n",
      " dense_10 (Dense)            (None, 128)               16777344  \n",
      "                                                                 \n",
      " leaky_re_lu_23 (LeakyReLU)  (None, 128)               0         \n",
      "                                                                 \n",
      " dense_11 (Dense)            (None, 8)                 1032      \n",
      "                                                                 \n",
      "=================================================================\n",
      "Total params: 16,861,928\n",
      "Trainable params: 16,861,928\n",
      "Non-trainable params: 0\n",
      "_________________________________________________________________\n"
     ]
    }
   ],
   "source": [
    "CNN_model = CNN(train_X, train_y)"
   ]
  },
  {
   "cell_type": "code",
   "execution_count": 30,
   "metadata": {},
   "outputs": [
    {
     "name": "stdout",
     "output_type": "stream",
     "text": [
      "Epoch 1/20\n",
      "125/125 [==============================] - 19s 110ms/step - loss: 0.2747 - precision_5: 0.9577 - recall_5: 0.8797 - f1_score: 0.9118 - val_loss: 0.4391 - val_precision_5: 0.9052 - val_recall_5: 0.9005 - val_f1_score: 0.9023\n",
      "Epoch 2/20\n",
      "125/125 [==============================] - 13s 101ms/step - loss: 0.0119 - precision_5: 0.9962 - recall_5: 0.9962 - f1_score: 0.9962 - val_loss: 0.3372 - val_precision_5: 0.9313 - val_recall_5: 0.9257 - val_f1_score: 0.9271\n",
      "Epoch 3/20\n",
      "125/125 [==============================] - 13s 102ms/step - loss: 5.8723e-04 - precision_5: 0.9999 - recall_5: 0.9999 - f1_score: 0.9999 - val_loss: 0.3113 - val_precision_5: 0.9503 - val_recall_5: 0.9462 - val_f1_score: 0.9477\n",
      "Epoch 4/20\n",
      "125/125 [==============================] - 13s 102ms/step - loss: 7.5086e-05 - precision_5: 1.0000 - recall_5: 1.0000 - f1_score: 1.0000 - val_loss: 0.3108 - val_precision_5: 0.9491 - val_recall_5: 0.9457 - val_f1_score: 0.9469\n",
      "Epoch 5/20\n",
      "125/125 [==============================] - 13s 103ms/step - loss: 2.7183e-05 - precision_5: 1.0000 - recall_5: 1.0000 - f1_score: 1.0000 - val_loss: 0.3179 - val_precision_5: 0.9500 - val_recall_5: 0.9452 - val_f1_score: 0.9464\n",
      "Epoch 6/20\n",
      "125/125 [==============================] - 13s 106ms/step - loss: 1.8362e-05 - precision_5: 1.0000 - recall_5: 1.0000 - f1_score: 1.0000 - val_loss: 0.3220 - val_precision_5: 0.9500 - val_recall_5: 0.9462 - val_f1_score: 0.9479\n",
      "Epoch 7/20\n",
      "125/125 [==============================] - 13s 104ms/step - loss: 1.3678e-05 - precision_5: 1.0000 - recall_5: 1.0000 - f1_score: 1.0000 - val_loss: 0.3253 - val_precision_5: 0.9503 - val_recall_5: 0.9472 - val_f1_score: 0.9484\n",
      "Epoch 8/20\n",
      "125/125 [==============================] - 13s 103ms/step - loss: 1.0674e-05 - precision_5: 1.0000 - recall_5: 1.0000 - f1_score: 1.0000 - val_loss: 0.3297 - val_precision_5: 0.9501 - val_recall_5: 0.9470 - val_f1_score: 0.9484\n",
      "Epoch 9/20\n",
      "125/125 [==============================] - 13s 103ms/step - loss: 8.4940e-06 - precision_5: 1.0000 - recall_5: 1.0000 - f1_score: 1.0000 - val_loss: 0.3327 - val_precision_5: 0.9508 - val_recall_5: 0.9470 - val_f1_score: 0.9484\n",
      "Epoch 10/20\n",
      "125/125 [==============================] - 13s 103ms/step - loss: 6.9306e-06 - precision_5: 1.0000 - recall_5: 1.0000 - f1_score: 1.0000 - val_loss: 0.3365 - val_precision_5: 0.9510 - val_recall_5: 0.9470 - val_f1_score: 0.9484\n",
      "Epoch 11/20\n",
      "125/125 [==============================] - 13s 104ms/step - loss: 5.7766e-06 - precision_5: 1.0000 - recall_5: 1.0000 - f1_score: 1.0000 - val_loss: 0.3401 - val_precision_5: 0.9508 - val_recall_5: 0.9467 - val_f1_score: 0.9482\n",
      "Epoch 12/20\n",
      "125/125 [==============================] - 13s 103ms/step - loss: 4.8628e-06 - precision_5: 1.0000 - recall_5: 1.0000 - f1_score: 1.0000 - val_loss: 0.3426 - val_precision_5: 0.9505 - val_recall_5: 0.9465 - val_f1_score: 0.9479\n",
      "Epoch 13/20\n",
      "125/125 [==============================] - 13s 104ms/step - loss: 4.1474e-06 - precision_5: 1.0000 - recall_5: 1.0000 - f1_score: 1.0000 - val_loss: 0.3451 - val_precision_5: 0.9505 - val_recall_5: 0.9462 - val_f1_score: 0.9479\n",
      "Epoch 14/20\n",
      "125/125 [==============================] - 13s 104ms/step - loss: 3.5672e-06 - precision_5: 1.0000 - recall_5: 1.0000 - f1_score: 1.0000 - val_loss: 0.3484 - val_precision_5: 0.9498 - val_recall_5: 0.9460 - val_f1_score: 0.9474\n",
      "Epoch 15/20\n",
      "125/125 [==============================] - 13s 104ms/step - loss: 3.0945e-06 - precision_5: 1.0000 - recall_5: 1.0000 - f1_score: 1.0000 - val_loss: 0.3506 - val_precision_5: 0.9497 - val_recall_5: 0.9452 - val_f1_score: 0.9472\n",
      "Epoch 16/20\n",
      "125/125 [==============================] - 13s 105ms/step - loss: 2.6979e-06 - precision_5: 1.0000 - recall_5: 1.0000 - f1_score: 1.0000 - val_loss: 0.3536 - val_precision_5: 0.9498 - val_recall_5: 0.9455 - val_f1_score: 0.9472\n",
      "Epoch 17/20\n",
      "125/125 [==============================] - 13s 105ms/step - loss: 2.3837e-06 - precision_5: 1.0000 - recall_5: 1.0000 - f1_score: 1.0000 - val_loss: 0.3561 - val_precision_5: 0.9498 - val_recall_5: 0.9455 - val_f1_score: 0.9472\n",
      "Epoch 18/20\n",
      "125/125 [==============================] - 13s 108ms/step - loss: 2.0931e-06 - precision_5: 1.0000 - recall_5: 1.0000 - f1_score: 1.0000 - val_loss: 0.3587 - val_precision_5: 0.9495 - val_recall_5: 0.9455 - val_f1_score: 0.9469\n",
      "Epoch 19/20\n",
      "125/125 [==============================] - 13s 106ms/step - loss: 1.8714e-06 - precision_5: 1.0000 - recall_5: 1.0000 - f1_score: 1.0000 - val_loss: 0.3602 - val_precision_5: 0.9493 - val_recall_5: 0.9452 - val_f1_score: 0.9469\n",
      "Epoch 20/20\n",
      "125/125 [==============================] - 13s 106ms/step - loss: 1.6759e-06 - precision_5: 1.0000 - recall_5: 1.0000 - f1_score: 1.0000 - val_loss: 0.3629 - val_precision_5: 0.9495 - val_recall_5: 0.9455 - val_f1_score: 0.9472\n"
     ]
    }
   ],
   "source": [
    "trained = CNN_model.fit(train_X, train_y, batch_size=batch_size, epochs=epochs, verbose=1,\n",
    "                            validation_data=(valid_X, valid_y))"
   ]
  },
  {
   "cell_type": "code",
   "execution_count": 47,
   "metadata": {},
   "outputs": [],
   "source": [
    "test_eval = CNN_model.evaluate(test_X, test_y, verbose=0)"
   ]
  },
  {
   "cell_type": "code",
   "execution_count": 48,
   "metadata": {},
   "outputs": [
    {
     "name": "stdout",
     "output_type": "stream",
     "text": [
      "CNN Loss:  0.42304205894470215\n",
      "CNN Precision:  0.9416624903678894\n",
      "CNN Recall:  0.9402499794960022\n",
      "CNN F1-score:  0.94027925\n"
     ]
    }
   ],
   "source": [
    "print('CNN Loss: ', test_eval[0])\n",
    "print('CNN Precision: ', test_eval[1])\n",
    "print('CNN Recall: ', test_eval[2])\n",
    "print('CNN F1-score: ', np.average(test_eval[3]))"
   ]
  },
  {
   "cell_type": "code",
   "execution_count": 46,
   "metadata": {},
   "outputs": [
    {
     "data": {
      "image/png": "[encoded data removed]",
      "text/plain": [
       "<Figure size 288x576 with 4 Axes>"
      ]
     },
     "metadata": {
      "needs_background": "light"
     },
     "output_type": "display_data"
    }
   ],
   "source": [
    "import matplotlib.pyplot as plt\n",
    "fig = plt.figure()\n",
    "fig.set_size_inches(4,8)\n",
    "plt.subplot(4,1,1)\n",
    "plt.plot(trained.history['precision_5'])\n",
    "plt.plot(trained.history['val_precision_5'])\n",
    "plt.title('model precision')\n",
    "plt.ylabel('precision')\n",
    "plt.xlabel('epoch')\n",
    "plt.legend(['train', 'test'], loc='lower right')\n",
    "plt.subplot(4,1,2)\n",
    "plt.plot(trained.history['recall_5'])\n",
    "plt.plot(trained.history['val_recall_5'])\n",
    "plt.title('model recall')\n",
    "plt.ylabel('recall')\n",
    "plt.xlabel('epoch')\n",
    "plt.legend(['train', 'test'], loc='lower right')\n",
    "plt.subplot(4,1,3)\n",
    "plt.plot(np.average(trained.history['f1_score'], axis=1))\n",
    "plt.plot(np.average(trained.history['val_f1_score'], axis=1))\n",
    "plt.title('model f1_score')\n",
    "plt.ylabel('f1_score')\n",
    "plt.xlabel('epoch')\n",
    "plt.legend(['train', 'test'], loc='lower right')\n",
    "plt.subplot(4,1,4)\n",
    "plt.plot(trained.history['loss'])\n",
    "plt.plot(trained.history['val_loss'])\n",
    "plt.title('model loss')\n",
    "plt.ylabel('loss')\n",
    "plt.xlabel('epoch')\n",
    "plt.legend(['train', 'test'], loc='upper right')\n",
    "plt.tight_layout()"
   ]
  },
  {
   "cell_type": "code",
   "execution_count": null,
   "metadata": {},
   "outputs": [],
   "source": [
    "CNN_model = CNN(train_X, train_y)"
   ]
  },
  {
   "cell_type": "code",
   "execution_count": null,
   "metadata": {},
   "outputs": [],
   "source": [
    "trained = CNN_model.fit(train_X, train_y, batch_size=batch_size, epochs=5, verbose=1,\n",
    "                            validation_data=(valid_X, valid_y))"
   ]
  },
  {
   "cell_type": "code",
   "execution_count": null,
   "metadata": {},
   "outputs": [],
   "source": [
    "test_eval = CNN_model.evaluate(test_X, test_y, verbose=0)\n",
    "print(\"Loss,  Precision,   Recall\")\n",
    "print(test_eval)"
   ]
  },
  {
   "cell_type": "code",
   "execution_count": null,
   "metadata": {},
   "outputs": [],
   "source": []
  }
 ],
 "metadata": {
  "kernelspec": {
   "display_name": "Python 3 (ipykernel)",
   "language": "python",
   "name": "python3"
  },
  "language_info": {
   "codemirror_mode": {
    "name": "ipython",
    "version": 3
   },
   "file_extension": ".py",
   "mimetype": "text/x-python",
   "name": "python",
   "nbconvert_exporter": "python",
   "pygments_lexer": "ipython3",
   "version": "3.9.7"
  }
 },
 "nbformat": 4,
 "nbformat_minor": 1
}
